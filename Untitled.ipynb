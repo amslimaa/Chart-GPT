{
 "cells": [
  {
   "cell_type": "code",
   "execution_count": 1,
   "id": "144dd4f8",
   "metadata": {},
   "outputs": [],
   "source": [
    "from pandas import read_csv"
   ]
  },
  {
   "cell_type": "code",
   "execution_count": 4,
   "id": "22ee2b01",
   "metadata": {},
   "outputs": [],
   "source": [
    "df = read_csv('./Samples/TabelaHUT.csv')"
   ]
  },
  {
   "cell_type": "code",
   "execution_count": 18,
   "id": "74ad9686",
   "metadata": {
    "scrolled": true
   },
   "outputs": [
    {
     "name": "stdout",
     "output_type": "stream",
     "text": [
      "   Tipo tabela  Segmento  Código do procedimento Mnemônico  \\\n",
      "0            1         1                     352       AH5   \n",
      "1            1         1                     725       CET   \n",
      "2            1         1                    1376      AVMS   \n",
      "3            1         1                      27       LAC   \n",
      "4            1         1                     198       PCR   \n",
      "\n",
      "                                        Descrição Status do procedimento  \\\n",
      "0  17 ALFA OH PROGESTERONA [5 DOSAGENS VARIAVEIS]                  Ativo   \n",
      "1                            CETONEMIA - PESQUISA                  Ativo   \n",
      "2           ACIDO VANIL MANDELICO [URINA ISOLADA]                  Ativo   \n",
      "3            ÁCIDO LÁTICO - LACTATO [SANGUE EDTA]                  Ativo   \n",
      "4                        PROTEINA C REATIVA - PCR                  Ativo   \n",
      "\n",
      "   Código tabela  Correlação TUSS  Descrição TUSS Cobertura  \\\n",
      "0            129              NaN             NaN         S   \n",
      "1           1122              NaN             NaN         S   \n",
      "2            151              NaN             NaN         S   \n",
      "3            146              NaN             NaN         S   \n",
      "4           1228              NaN             NaN        NC   \n",
      "\n",
      "   Observação cobertura Valor exame Valor atualizado Componente de preço  \\\n",
      "0                   NaN       12,07              NaN              2 - CH   \n",
      "1                   NaN        2,01              NaN              2 - CH   \n",
      "2                   NaN       12,56              NaN              2 - CH   \n",
      "3                   NaN        9,04              NaN              2 - CH   \n",
      "4                   NaN         NaN              NaN              2 - CH   \n",
      "\n",
      "  Quantidade CH Unidade financeira  Valor unidade financeira  Porcentagem  \\\n",
      "0         10,05     0001 - R$ 1,00                         1          100   \n",
      "1          2,01     0001 - R$ 1,00                         1          100   \n",
      "2         12,56     0001 - R$ 1,00                         1          100   \n",
      "3          9,04     0001 - R$ 1,00                         1          100   \n",
      "4            60     0001 - R$ 1,00                         1          100   \n",
      "\n",
      "  Área Laboratorial Padrão  Área Laboratorial Exclusiva  \n",
      "0                   Alvaro                          NaN  \n",
      "1                   Alvaro                          NaN  \n",
      "2                   Alvaro                          NaN  \n",
      "3               Bioquimica                          NaN  \n",
      "4               Bioquimica                          NaN  \n"
     ]
    }
   ],
   "source": [
    "print(df.head())"
   ]
  }
 ],
 "metadata": {
  "kernelspec": {
   "display_name": "Python 3 (ipykernel)",
   "language": "python",
   "name": "python3"
  },
  "language_info": {
   "codemirror_mode": {
    "name": "ipython",
    "version": 3
   },
   "file_extension": ".py",
   "mimetype": "text/x-python",
   "name": "python",
   "nbconvert_exporter": "python",
   "pygments_lexer": "ipython3",
   "version": "3.10.11"
  }
 },
 "nbformat": 4,
 "nbformat_minor": 5
}
